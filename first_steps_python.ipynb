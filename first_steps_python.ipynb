{
  "nbformat": 4,
  "nbformat_minor": 0,
  "metadata": {
    "colab": {
      "name": "Primeros pasos python.ipynb",
      "provenance": []
    },
    "kernelspec": {
      "name": "python3",
      "display_name": "Python 3"
    }
  },
  "cells": [
    {
      "cell_type": "markdown",
      "metadata": {
        "id": "XgKPU5noLi5D"
      },
      "source": [
        "## Introducción\n",
        "En este curso utilizaremos python mediante el uso de **Notebooks**. Éstos pueden ser de Google Colab (como éste) o pueden ser archivos tipo .ipynb que se abren con Anaconda-Jupyter. Para esto último deben descargar e instalar anaconda. Para ello se recomienda visitar https://www.anaconda.com/ y seguir las instrucciones.\n",
        " \n",
        "En primer lugar, un notebook de jupyter o colab es una calculadora. Ahí se pueden realizar las operaciones suma, resta, multiplicación, división, potencia, etc. Basta con escribir la operación y \"correr\" la celda; para ello puedes presionar el botón correspondiente a la izquierda de la celda o puedes presionar Shift + Enter\n",
        " \n",
        "A continuación se presentan algunas operaciones \"comentadas\", es decir, antecedidas por el signo ```#``` (en python, todo lo que esté a la derecha de ese signo será ignorado), puedes borrar el signo ```#``` al inicio y correr la celda cada vez para obtener cada resultado. Obs. Cada celda puede ser corrida tantas veces como se quiera. Es común que en alguna línea se ponga una explicación con el uso de otro signo ```#```; aquí se hace para explicarle a las personas no familiarizadas con algunas operaciones matemáticas los nombres de éstas, pero puede ser un buen hábito comentar el código que generemos (como veremos más adelante)."
      ]
    },
    {
      "cell_type": "code",
      "metadata": {
        "id": "rGKBvzUIL7lt",
        "colab": {
          "base_uri": "https://localhost:8080/"
        },
        "outputId": "d16764df-b64f-4306-afbb-2362c09cca1c"
      },
      "source": [
        "#8*5  \n",
        "\n",
        "#5+6+7\n",
        "\n",
        "#8/2\n",
        "\n",
        "#8**6   #potencia\n",
        "\n",
        "#(5*8 + 6)**2/100\n",
        "\n",
        "#13 // 5 #parte entera de la division\n",
        "\n",
        "#13 % 5  #residuo de la division"
      ],
      "execution_count": null,
      "outputs": [
        {
          "output_type": "execute_result",
          "data": {
            "text/plain": [
              "262144"
            ]
          },
          "metadata": {
            "tags": []
          },
          "execution_count": 14
        }
      ]
    },
    {
      "cell_type": "markdown",
      "metadata": {
        "id": "5OTAspUQOYZi"
      },
      "source": [
        "# Importar paquetes\n",
        "Para utilizar otras funciones matemáticas será necesario importar una librería. Aquí utilizaremos la librería Numpy que viene por defecto en Anaconda. Esta librería tiene una cantidad inimaginable de funciones y objetos matemáticos de los que utilizaremos unos cuantos (para más información visita https://numpy.org/). \n",
        "\n",
        "Ahora se introduce una forma estándar para importar las librerías. La estructura es:\n",
        "```import [libreria] as [clave]```\n",
        "La clave será la forma con la que \"invocaremos\" a la librería en nuestro código. Si bien la clave puede ser cualquier conjunto de letras, en foros, tutoriales y documentaciones suele haber convenciones que también utilizaremos aquí. En este caso, se suele importar a numpy con la clave np.\n",
        "\n",
        "Después de haber corrido la siguiente celda, podrás utilizar todas las funciones y objetos de la librería en la misma sesión. Esto significa que no hay que estar importando en todo momento la librería."
      ]
    },
    {
      "cell_type": "code",
      "metadata": {
        "id": "1nFsI4A8doCH"
      },
      "source": [
        "import numpy as np"
      ],
      "execution_count": null,
      "outputs": []
    },
    {
      "cell_type": "markdown",
      "metadata": {
        "id": "_T-SdYHlRkEi"
      },
      "source": [
        "\n",
        "Ya habiendo importado la librería, cualquier objeto o función de esa librería se invoca mediante ```np.[funcion]```\n",
        "\n",
        "A continuación se introducen algunas funciones y constantes matemáticas cargadas en numpy para que empieces a utilizarlas. De nuevo, \"descomenta\" las líneas para obtener cada resultado."
      ]
    },
    {
      "cell_type": "code",
      "metadata": {
        "id": "q2FGKTj2eHFs",
        "colab": {
          "base_uri": "https://localhost:8080/"
        },
        "outputId": "f4288b1c-87b2-40af-9c41-73cab8b5a265"
      },
      "source": [
        "## FUNCIONES\n",
        "\n",
        "#np.cos(50) #coseno\n",
        "\n",
        "#np.exp(5) #exponencial\n",
        "\n",
        "#np.sqrt(10) #raiz cuadrada\n"
      ],
      "execution_count": null,
      "outputs": [
        {
          "output_type": "execute_result",
          "data": {
            "text/plain": [
              "148.4131591025766"
            ]
          },
          "metadata": {
            "tags": []
          },
          "execution_count": 9
        }
      ]
    },
    {
      "cell_type": "code",
      "metadata": {
        "id": "fsuD1TH3ebd3",
        "colab": {
          "base_uri": "https://localhost:8080/"
        },
        "outputId": "2cb44719-d204-4aed-8779-e6968c4504b4"
      },
      "source": [
        "## CONSTANTES\n",
        "\n",
        "np.pi  #numero pi\n",
        "\n",
        "#np.e   #constante de Euler\n",
        "\n",
        "\n",
        "#np.cos(2*np.pi)\n"
      ],
      "execution_count": null,
      "outputs": [
        {
          "output_type": "execute_result",
          "data": {
            "text/plain": [
              "3.141592653589793"
            ]
          },
          "metadata": {
            "tags": []
          },
          "execution_count": 46
        }
      ]
    },
    {
      "cell_type": "markdown",
      "metadata": {
        "id": "J-104UeocA3Z"
      },
      "source": [
        "# Bucle \"for\"\n",
        "La estructura básica de python que hace falta dominar, al menos para toda la primera parte de este curso, es el bucle ```for``` que comprenderemos a partir del ejemplo de la siguiente celda:"
      ]
    },
    {
      "cell_type": "code",
      "metadata": {
        "id": "-hntZzyAb_-2",
        "colab": {
          "base_uri": "https://localhost:8080/"
        },
        "outputId": "a3643994-b2b2-4a54-cc59-7719b7d048dc"
      },
      "source": [
        "for i in range(10):\n",
        "  print(i)"
      ],
      "execution_count": null,
      "outputs": [
        {
          "output_type": "stream",
          "text": [
            "0\n",
            "1\n",
            "2\n",
            "3\n",
            "4\n",
            "5\n",
            "6\n",
            "7\n",
            "8\n",
            "9\n"
          ],
          "name": "stdout"
        }
      ]
    },
    {
      "cell_type": "markdown",
      "metadata": {
        "id": "KWYcpCr4cprA"
      },
      "source": [
        "Como podrás ver, lo único que ocurrió es que se mostraron los números del 0 al 9. Los elementos importantes son:\n",
        "- ```range(N)``` es una estructura que genera una \"iteración\" de ```N``` números empezando por el cero.\n",
        "- ```print()``` función cuyo argumento se muestra en la pantalla\n",
        "\n",
        "Así, la instrucción del bucle podría leerse entonces como \"para cada elemento de la lista [0, ..., 9], muestra dicho elemento\".\n",
        "\n",
        "En general, el bucle ```for``` tiene la siguiente estructura:\n",
        "\n",
        "```\n",
        "for elemento in iterable:\n",
        "   función(elemento)\n",
        "   ```\n",
        "los dos puntos de la primera línea y la sangría de la instrucción son importantes (esta última se genera de forma automática en jupyter y casi cualquier editor de textos, pero puede ser causa de errores).\n",
        "Para familizarizarte con la lógica, juega con la siguientes celdas. Como antes, puedes \"descomentar\" y comentar cada línea para ver cómo cambia el resultado:"
      ]
    },
    {
      "cell_type": "code",
      "metadata": {
        "colab": {
          "base_uri": "https://localhost:8080/"
        },
        "id": "feFMeIACci4n",
        "outputId": "f61734d9-d859-4baf-fb10-24e6afb210bc"
      },
      "source": [
        "for i in range(10):\n",
        "  #print(i)\n",
        "  #print(i-1)\n",
        "  #print(2*i)\n",
        "  #print(i**2)\n",
        "  #print(2**i)"
      ],
      "execution_count": null,
      "outputs": [
        {
          "output_type": "stream",
          "text": [
            "0\n",
            "1\n",
            "2\n",
            "3\n",
            "4\n",
            "5\n",
            "6\n",
            "7\n",
            "8\n",
            "9\n"
          ],
          "name": "stdout"
        }
      ]
    },
    {
      "cell_type": "markdown",
      "metadata": {
        "id": "mDiAnKMfkDkj"
      },
      "source": [
        "## Ejercicios \"for\"\n",
        "Mediante el uso de las estructuras ```for``` y ```range()```, genera un bucle que produzca los siguientes resultados:\n",
        "1. Imprimir todos los números del 0 al 15\n",
        "2. Imprimir todos los números del 1 al 15\n",
        "3. Imprimir los números pares menores que 20\n",
        "4. Imprimir los números impares menores e iguales a 25. "
      ]
    },
    {
      "cell_type": "code",
      "metadata": {
        "id": "gHUQtPgRqGUB"
      },
      "source": [
        "# Ejercicio 1"
      ],
      "execution_count": null,
      "outputs": []
    },
    {
      "cell_type": "code",
      "metadata": {
        "id": "5OhYAfqwqGfn"
      },
      "source": [
        "# Ejercicio 2"
      ],
      "execution_count": null,
      "outputs": []
    },
    {
      "cell_type": "code",
      "metadata": {
        "id": "ipMggJ0UqGm_"
      },
      "source": [
        "# Ejercicio 3"
      ],
      "execution_count": null,
      "outputs": []
    },
    {
      "cell_type": "code",
      "metadata": {
        "id": "G-dXgrpEqGtC"
      },
      "source": [
        "# Ejercicio 4"
      ],
      "execution_count": null,
      "outputs": []
    },
    {
      "cell_type": "markdown",
      "metadata": {
        "id": "ketvFxS_MRkp"
      },
      "source": [
        "# Listas\n",
        "Otra estructura de python que utilizaremos son las listas. Las listas se construyen con corchetes y sus elementos se separan con comas. Las listas pueden contener números enteros, números flotantes (con punto decimal), cadenas alfanuméricas o cualquier otra estructura de python, inclusive listas.\n",
        "\n",
        "En los primeros ejercicios de este curso las utilizaremos para hacer listas de nodos y luego emplearlas para construir enlaces de forma ordenada.\n",
        "\n",
        "A continuación se detallan algunos aspectos sobre el empleo de listas en python."
      ]
    },
    {
      "cell_type": "code",
      "metadata": {
        "id": "B1Vmy0k1rOqf"
      },
      "source": [
        "# se construye una lista de diez elementos\n",
        "lista = [1,5,9,4,8,7,2,6,3,0]"
      ],
      "execution_count": null,
      "outputs": []
    },
    {
      "cell_type": "markdown",
      "metadata": {
        "id": "S2RFv2V-rUtP"
      },
      "source": [
        "Para acceder a cualquier elemento de la lista se puede escribir su nombre y, entre corchetes, indicar la entrada (el índice) que quieres extraer. \n",
        "\n",
        "Nota: en python, cuando se habla de índices se inicia a contar desde el cero, esto es, el 0 indica el primer elemento, el 1 el segundo, y así sucesivmente.\n",
        "\n",
        "En la siguiente celda descomenta los distintos renglones para ver el resultado, y compáralo con la lista creada más arriba."
      ]
    },
    {
      "cell_type": "code",
      "metadata": {
        "colab": {
          "base_uri": "https://localhost:8080/"
        },
        "id": "LUUg8R4UrO1P",
        "outputId": "ff83a95d-40be-4f54-9ece-710b5b863872"
      },
      "source": [
        "lista[0]\n",
        "#lista[1]\n",
        "#lista[8]\n",
        "#lista[10]"
      ],
      "execution_count": null,
      "outputs": [
        {
          "output_type": "execute_result",
          "data": {
            "text/plain": [
              "1"
            ]
          },
          "metadata": {
            "tags": []
          },
          "execution_count": 54
        }
      ]
    },
    {
      "cell_type": "markdown",
      "metadata": {
        "id": "xgBgQg1NsHft"
      },
      "source": [
        "Como habrás notado, y por lo dicho antes, la lista tiene diez elementos, pero sus índices llegan hasta el 9 por haber iniciado en 0. Si introduces un índice mayor al tamaño de la lista obtendras un error.\n",
        "\n",
        "Uno de los aspectos de las listas que nos resultarán más útiles en la primera práctica es la posibilidad de acceder a sus elementos mediante índices negativos. El -1 corresponde al último, el -2 al penúltimo, y así el resto.\n",
        "\n",
        "En la siguiente celda vuelve a hacer lo mismo:"
      ]
    },
    {
      "cell_type": "code",
      "metadata": {
        "colab": {
          "base_uri": "https://localhost:8080/"
        },
        "id": "W8EMyFB7ssc8",
        "outputId": "20675252-a283-4c5b-8cf7-8cd1a21d41fd"
      },
      "source": [
        "lista[-1]\n",
        "#lista[-8]\n",
        "#lista[-10]\n",
        "#lista[-11]"
      ],
      "execution_count": null,
      "outputs": [
        {
          "output_type": "execute_result",
          "data": {
            "text/plain": [
              "0"
            ]
          },
          "metadata": {
            "tags": []
          },
          "execution_count": 55
        }
      ]
    },
    {
      "cell_type": "markdown",
      "metadata": {
        "id": "YP3N4_UjvQgZ"
      },
      "source": [
        "Utilizando los mismos índices, es posible extraer \"subconjuntos# de la lista mediante el uso de el símbolo \":\" y la estructura \n",
        "\n",
        "```[limite inferior:limite superior]```\n",
        "\n",
        "Observa que el subconjunto siempre **contiene** al límite inferior y **no contiene** al superior:\n"
      ]
    },
    {
      "cell_type": "code",
      "metadata": {
        "colab": {
          "base_uri": "https://localhost:8080/"
        },
        "id": "OSIGWcX7vdGn",
        "outputId": "7c994508-d76d-40db-9030-12eb80217adb"
      },
      "source": [
        "lista[2:6]\n",
        "#lista[6:9]\n",
        "#lista[:5]\n",
        "#lista[-4:]"
      ],
      "execution_count": null,
      "outputs": [
        {
          "output_type": "execute_result",
          "data": {
            "text/plain": [
              "[9, 4, 8, 7]"
            ]
          },
          "metadata": {
            "tags": []
          },
          "execution_count": 56
        }
      ]
    },
    {
      "cell_type": "markdown",
      "metadata": {
        "id": "aFI31XxwwSS5"
      },
      "source": [
        "Nota: Como puedes ver en los últimos dos ejemplos, no indicar el límite inferior o el límite superior se entiende como \"todos los elementos a la izquierda que\", o \"a la derecha que\", respectivamente."
      ]
    },
    {
      "cell_type": "markdown",
      "metadata": {
        "id": "SRWTrxxRiLm7"
      },
      "source": [
        "Las listas, por contener elementos \"iterables\", se puede utilizar dentro de la estructura ```for``` para realizar las operaciones dentro del bucle. A continuación se ponen dos ejemplos, uno de con números y otro con cadenas. Notar la flexibilidad de la estructura ```for``` que permite elegir el nombre del iterable  (no es necesario que sea ```i``` como hasta ahora hemos hecho).\n",
        "También se muestra cómo imprimir varias cosas en una misma línea, introduciendo varios argumentos separados por comas."
      ]
    },
    {
      "cell_type": "code",
      "metadata": {
        "colab": {
          "base_uri": "https://localhost:8080/"
        },
        "id": "9zaQ97lZtwWC",
        "outputId": "89dd6a89-1209-4e90-88c2-7a20d4b11b4f"
      },
      "source": [
        "for numero in lista:\n",
        "  print('El elemento es', numero, 'y su cuadrado es', numero**2)"
      ],
      "execution_count": null,
      "outputs": [
        {
          "output_type": "stream",
          "text": [
            "El elemento es 1 y su cuadrado es 1\n",
            "El elemento es 5 y su cuadrado es 25\n",
            "El elemento es 9 y su cuadrado es 81\n",
            "El elemento es 4 y su cuadrado es 16\n",
            "El elemento es 8 y su cuadrado es 64\n",
            "El elemento es 7 y su cuadrado es 49\n",
            "El elemento es 2 y su cuadrado es 4\n",
            "El elemento es 6 y su cuadrado es 36\n",
            "El elemento es 3 y su cuadrado es 9\n",
            "El elemento es 0 y su cuadrado es 0\n"
          ],
          "name": "stdout"
        }
      ]
    },
    {
      "cell_type": "code",
      "metadata": {
        "id": "zMYontLOhkCt",
        "colab": {
          "base_uri": "https://localhost:8080/"
        },
        "outputId": "f49a414c-0317-4ca7-97ae-2f31f33f75f9"
      },
      "source": [
        "\n",
        "lista2 = ['Esta', 'es', 'una', 'lista', 'de', 'cadenas', 'las', 'cadenas', 'deben', 'ir', 'entre', 'comillas.']\n",
        "\n",
        "for cadena in lista2:\n",
        "  print(cadena)\n",
        "  #print(2*cadena)"
      ],
      "execution_count": null,
      "outputs": [
        {
          "output_type": "stream",
          "text": [
            "Esta\n",
            "es\n",
            "una\n",
            "lista\n",
            "de\n",
            "cadenas\n",
            "las\n",
            "cadenas\n",
            "deben\n",
            "ir\n",
            "entre\n",
            "comillas.\n"
          ],
          "name": "stdout"
        }
      ]
    },
    {
      "cell_type": "markdown",
      "metadata": {
        "id": "c9MfPsNDik7E"
      },
      "source": [
        "Nota la diferencia entre multiplicar números y multiplicar números por cadenas."
      ]
    },
    {
      "cell_type": "markdown",
      "metadata": {
        "id": "teid74SwMaJC"
      },
      "source": [
        "La función en python para agregar nuevos elementos a una lista antes creada es **append()**\n",
        "\n",
        "A continuación se muestra su uso:"
      ]
    },
    {
      "cell_type": "code",
      "metadata": {
        "colab": {
          "base_uri": "https://localhost:8080/"
        },
        "id": "t2J04xJCxLET",
        "outputId": "b97fe724-fdb3-4d37-8829-358922c89580"
      },
      "source": [
        "A = []  # se crea una lista vacía, sin elementos\n",
        "print(A)\n",
        "A.append(5)\n",
        "print(A)"
      ],
      "execution_count": null,
      "outputs": [
        {
          "output_type": "stream",
          "text": [
            "[]\n",
            "[5]\n"
          ],
          "name": "stdout"
        }
      ]
    },
    {
      "cell_type": "code",
      "metadata": {
        "colab": {
          "base_uri": "https://localhost:8080/"
        },
        "id": "ZKMisI6SxYTA",
        "outputId": "6d164612-8772-48cc-bcfb-2b37eea96f8e"
      },
      "source": [
        "for i in range(5):\n",
        "  A.append(i)\n",
        "\n",
        "print(A)"
      ],
      "execution_count": null,
      "outputs": [
        {
          "output_type": "stream",
          "text": [
            "[5, 0, 1, 2, 3, 4]\n"
          ],
          "name": "stdout"
        }
      ]
    },
    {
      "cell_type": "markdown",
      "metadata": {
        "id": "KfT9e--XxiPw"
      },
      "source": [
        "Para finalizar con las listas, observemos qué resulta al sumar listas o al multiplicarlas por un éntero:"
      ]
    },
    {
      "cell_type": "code",
      "metadata": {
        "colab": {
          "base_uri": "https://localhost:8080/"
        },
        "id": "RASjN4QAxoaI",
        "outputId": "6e45d5b6-3922-4e40-fc90-8cfc68e1dcff"
      },
      "source": [
        "lista + lista2\n",
        "#lista+lista\n",
        "#2*lista2\n",
        "#2*A+lista"
      ],
      "execution_count": null,
      "outputs": [
        {
          "output_type": "execute_result",
          "data": {
            "text/plain": [
              "[1,\n",
              " 5,\n",
              " 9,\n",
              " 4,\n",
              " 8,\n",
              " 7,\n",
              " 2,\n",
              " 6,\n",
              " 3,\n",
              " 0,\n",
              " 'Esta',\n",
              " 'es',\n",
              " 'una',\n",
              " 'lista',\n",
              " 'de',\n",
              " 'cadenas',\n",
              " 'las',\n",
              " 'cadenas',\n",
              " 'deben',\n",
              " 'ir',\n",
              " 'entre',\n",
              " 'comillas.']"
            ]
          },
          "metadata": {
            "tags": []
          },
          "execution_count": 61
        }
      ]
    },
    {
      "cell_type": "markdown",
      "metadata": {
        "id": "kW8ltId12_4A"
      },
      "source": [
        "## Ejercicios de listas\n",
        "1. Define dos listas vacías, una llamada pares y otra impares"
      ]
    },
    {
      "cell_type": "code",
      "metadata": {
        "id": "aCjT3Phj3Y-c"
      },
      "source": [
        "#Ejercicio 1\n"
      ],
      "execution_count": null,
      "outputs": []
    },
    {
      "cell_type": "markdown",
      "metadata": {
        "id": "RS96gmLo3a9h"
      },
      "source": [
        "2. Mediante el uso de ```for``` y la función ```append```, agrega a la lista ```pares``` el cero y los números pares **menores** que 20"
      ]
    },
    {
      "cell_type": "code",
      "metadata": {
        "id": "z6o8o7e23252"
      },
      "source": [
        "# Ejercicio 2\n"
      ],
      "execution_count": null,
      "outputs": []
    },
    {
      "cell_type": "markdown",
      "metadata": {
        "id": "zNP42Gxa36qi"
      },
      "source": [
        "3. Igual que el inciso anterior, agrega a la lista ```impares``` los números impares **menores o iguales** que 21."
      ]
    },
    {
      "cell_type": "code",
      "metadata": {
        "id": "Rq-1dwoU35i9"
      },
      "source": [
        "#Ejercicio 3"
      ],
      "execution_count": null,
      "outputs": []
    },
    {
      "cell_type": "markdown",
      "metadata": {
        "id": "YbwNzvdVyLiY"
      },
      "source": [
        "# Arreglos de numpy"
      ]
    },
    {
      "cell_type": "markdown",
      "metadata": {
        "id": "FiLEAb7vyypS"
      },
      "source": [
        "La estructura básica de numpy que utilizaremos es ```array()``` (arreglo) que recoge muchas de las propiedades de los vectores y las matrices.\n",
        "\n",
        "En primer lugar, cualquier lista puede usarse para definir un arreglo y cambiar sus propiedades, particularmente en lo que se refiere a la multiplicación y la suma:"
      ]
    },
    {
      "cell_type": "code",
      "metadata": {
        "id": "qRcH0YBlzOSI"
      },
      "source": [
        "arreglo = np.array(lista)"
      ],
      "execution_count": null,
      "outputs": []
    },
    {
      "cell_type": "code",
      "metadata": {
        "colab": {
          "base_uri": "https://localhost:8080/"
        },
        "id": "Aq46ZCSFzRDT",
        "outputId": "0550e8ba-5460-4ea1-a5ee-5d2b2efe2e2e"
      },
      "source": [
        "2*arreglo #notar la diferencia con el caso de 2*lista"
      ],
      "execution_count": null,
      "outputs": [
        {
          "output_type": "execute_result",
          "data": {
            "text/plain": [
              "array([ 2, 10, 18,  8, 16, 14,  4, 12,  6,  0])"
            ]
          },
          "metadata": {
            "tags": []
          },
          "execution_count": 66
        }
      ]
    },
    {
      "cell_type": "markdown",
      "metadata": {
        "id": "_1bPXcQWz4fd"
      },
      "source": [
        "Si dos arreglos tienen el mismo tamaño, su suma y su resta tienen un sentido vectorial:"
      ]
    },
    {
      "cell_type": "code",
      "metadata": {
        "id": "m2jCR3S3zi9d"
      },
      "source": [
        "arreglo1 = np.array([1,2,3,4,5,6])\n",
        "arreglo2 = np.array([2,4,6,8,10,12])"
      ],
      "execution_count": null,
      "outputs": []
    },
    {
      "cell_type": "code",
      "metadata": {
        "colab": {
          "base_uri": "https://localhost:8080/"
        },
        "id": "bo82GVX2ztzx",
        "outputId": "a5fd3b6f-273b-4c84-8742-7793b4e7c225"
      },
      "source": [
        "arreglo1 + arreglo2\n",
        "#arreglo1 - arreglo2\n",
        "#arreglo1 * arreglo2\n",
        "#arreglo1**2"
      ],
      "execution_count": null,
      "outputs": [
        {
          "output_type": "execute_result",
          "data": {
            "text/plain": [
              "array([ 3,  6,  9, 12, 15, 18])"
            ]
          },
          "metadata": {
            "tags": []
          },
          "execution_count": 68
        }
      ]
    },
    {
      "cell_type": "markdown",
      "metadata": {
        "id": "XsxXVkVR0AKw"
      },
      "source": [
        "Analizando los últimos dos ejemplos, ¿qué interpretación tiene2 la multiplicación de dos arreglos o el cuadrado de un arreglo?\n",
        "\n",
        "Si se quiere recoger el sentido del producto (interno) de vectores se puede usar la función ```np.dot()``` o la función \n"
      ]
    },
    {
      "cell_type": "code",
      "metadata": {
        "colab": {
          "base_uri": "https://localhost:8080/"
        },
        "id": "jqrcFKhO0kSV",
        "outputId": "fd955c5d-71b7-45a2-ffd0-6977a1b1da76"
      },
      "source": [
        "np.dot(arreglo1, arreglo2)"
      ],
      "execution_count": null,
      "outputs": [
        {
          "output_type": "execute_result",
          "data": {
            "text/plain": [
              "182"
            ]
          },
          "metadata": {
            "tags": []
          },
          "execution_count": 69
        }
      ]
    },
    {
      "cell_type": "markdown",
      "metadata": {
        "id": "XfLdIl9V0wrd"
      },
      "source": [
        "Como se dijo antes, una lista puede tener listas como elementos. Si una estructura así se convierte en un arreglo se obtiene algo como una matriz:"
      ]
    },
    {
      "cell_type": "code",
      "metadata": {
        "colab": {
          "base_uri": "https://localhost:8080/"
        },
        "id": "A5gn28Q91AJt",
        "outputId": "39e84bff-f199-474d-fced-da7d49ab1d7b"
      },
      "source": [
        "Lista2d = [[1,2,3],[6,5,4], [7,8,9]] #una lista de tres listas, cada una con tres elementos\n",
        "\n",
        "Arreglo2d = np.array(Lista2d) #matriz de tres por tres\n",
        "\n",
        "Arreglo2d"
      ],
      "execution_count": null,
      "outputs": [
        {
          "output_type": "execute_result",
          "data": {
            "text/plain": [
              "array([[1, 2, 3],\n",
              "       [6, 5, 4],\n",
              "       [7, 8, 9]])"
            ]
          },
          "metadata": {
            "tags": []
          },
          "execution_count": 70
        }
      ]
    },
    {
      "cell_type": "code",
      "metadata": {
        "colab": {
          "base_uri": "https://localhost:8080/"
        },
        "id": "eEhD4ZOA1SMo",
        "outputId": "bd7ac896-5aac-4320-9fac-c9820f5402e4"
      },
      "source": [
        "2*Arreglo2d\n",
        "#-1*Arreglo2d\n",
        "#Arreglo2d**2"
      ],
      "execution_count": null,
      "outputs": [
        {
          "output_type": "execute_result",
          "data": {
            "text/plain": [
              "array([[ 2,  4,  6],\n",
              "       [12, 10,  8],\n",
              "       [14, 16, 18]])"
            ]
          },
          "metadata": {
            "tags": []
          },
          "execution_count": 71
        }
      ]
    },
    {
      "cell_type": "markdown",
      "metadata": {
        "id": "Xmy90fAq1oQK"
      },
      "source": [
        "Algunos arreglos de interés vienen como funciones de numpy, particularmente \n",
        "- ```np.zeros([n,m])``` (arreglo de $n\\times m$ hecho de puros ceros)\n",
        "-  ```np.ones([n,m])``` (arreglo hecho de puros unos)\n",
        "- ```np.random.rand(n,m)``` arreglo de números aleatorios entre 0 y 1\n",
        "\n",
        "para más información, visitar https://numpy.org/"
      ]
    },
    {
      "cell_type": "code",
      "metadata": {
        "colab": {
          "base_uri": "https://localhost:8080/"
        },
        "id": "14PUbUXi1nYt",
        "outputId": "06d49143-717e-4288-edf9-544c94d1a0e7"
      },
      "source": [
        "np.zeros([2,4])"
      ],
      "execution_count": null,
      "outputs": [
        {
          "output_type": "execute_result",
          "data": {
            "text/plain": [
              "array([[0., 0., 0., 0.],\n",
              "       [0., 0., 0., 0.]])"
            ]
          },
          "metadata": {
            "tags": []
          },
          "execution_count": 72
        }
      ]
    },
    {
      "cell_type": "code",
      "metadata": {
        "colab": {
          "base_uri": "https://localhost:8080/"
        },
        "id": "luDvTgD22QHV",
        "outputId": "3b5b6fce-dcf5-49b5-94a8-3015ef4b7ebc"
      },
      "source": [
        "np.ones([2,3])"
      ],
      "execution_count": null,
      "outputs": [
        {
          "output_type": "execute_result",
          "data": {
            "text/plain": [
              "array([[1., 1., 1.],\n",
              "       [1., 1., 1.]])"
            ]
          },
          "metadata": {
            "tags": []
          },
          "execution_count": 73
        }
      ]
    },
    {
      "cell_type": "code",
      "metadata": {
        "colab": {
          "base_uri": "https://localhost:8080/"
        },
        "id": "Fjqx8Dr922IM",
        "outputId": "66fedc69-f010-4a2b-d61d-7938c3f46409"
      },
      "source": [
        "np.random.rand(5,4)"
      ],
      "execution_count": null,
      "outputs": [
        {
          "output_type": "execute_result",
          "data": {
            "text/plain": [
              "array([[0.02965291, 0.66362005, 0.89810665, 0.35040668],\n",
              "       [0.02197988, 0.77170597, 0.37176291, 0.89399768],\n",
              "       [0.49727576, 0.04336152, 0.77399226, 0.9515908 ],\n",
              "       [0.43590011, 0.7329924 , 0.90863052, 0.64074909],\n",
              "       [0.18502402, 0.77687432, 0.87938893, 0.56922961]])"
            ]
          },
          "metadata": {
            "tags": []
          },
          "execution_count": 74
        }
      ]
    },
    {
      "cell_type": "markdown",
      "metadata": {
        "id": "GHeLeNM34ijP"
      },
      "source": [
        "Mediante la misma estructura de índices que en las listas, se pueden acceder a los elementos de un arreglo con la ventaja de que para arreglos de dimensión 2 y mayores, se puede utilizar la notación que usamos para matrices. A continuación un ejemplo:"
      ]
    },
    {
      "cell_type": "code",
      "metadata": {
        "colab": {
          "base_uri": "https://localhost:8080/"
        },
        "id": "d6d0XgJl4_Ym",
        "outputId": "07c58d32-6968-47fb-e273-b7e5afbeff49"
      },
      "source": [
        "R = np.random.rand(4,4)\n",
        "print(R)"
      ],
      "execution_count": null,
      "outputs": [
        {
          "output_type": "stream",
          "text": [
            "[[0.69620064 0.10288754 0.48893753 0.19570101]\n",
            " [0.4774959  0.55684671 0.17316504 0.49474334]\n",
            " [0.10297379 0.75366418 0.53179006 0.26792589]\n",
            " [0.38225938 0.07172527 0.30005596 0.32844507]]\n"
          ],
          "name": "stdout"
        }
      ]
    },
    {
      "cell_type": "markdown",
      "metadata": {
        "id": "H2_Hydkl5VGi"
      },
      "source": [
        "Descomentando cada línea, verifica qué resultado se obtiene con los distintos índices de la matriz generada:"
      ]
    },
    {
      "cell_type": "code",
      "metadata": {
        "colab": {
          "base_uri": "https://localhost:8080/"
        },
        "id": "ek4VapKW5JUW",
        "outputId": "d63dc2e3-9480-4d76-f5c9-48a57dd0fb68"
      },
      "source": [
        "R[0]\n",
        "#R[1]\n",
        "#R[2]\n",
        "#R[1,3]\n",
        "#R[3,1]"
      ],
      "execution_count": null,
      "outputs": [
        {
          "output_type": "execute_result",
          "data": {
            "text/plain": [
              "array([0.69620064, 0.10288754, 0.48893753, 0.19570101])"
            ]
          },
          "metadata": {
            "tags": []
          },
          "execution_count": 76
        }
      ]
    },
    {
      "cell_type": "markdown",
      "metadata": {
        "id": "xuQC9lXU6AZM"
      },
      "source": [
        "Mediante el uso de los índices se puede sustituir el valor de una de las entradas de un arreglo. Como ejemplo, a continuación se modifica un elemento del arrelgo ```R``` antes creado:"
      ]
    },
    {
      "cell_type": "code",
      "metadata": {
        "colab": {
          "base_uri": "https://localhost:8080/"
        },
        "id": "PJ1Bf3we6Mc5",
        "outputId": "8f595e22-fa19-4e2e-9f30-0b37d9764af4"
      },
      "source": [
        "print(R)\n",
        "\n",
        "R[1,1] = 10\n"
      ],
      "execution_count": null,
      "outputs": [
        {
          "output_type": "stream",
          "text": [
            "[[0.69620064 0.10288754 0.48893753 0.19570101]\n",
            " [0.4774959  0.55684671 0.17316504 0.49474334]\n",
            " [0.10297379 0.75366418 0.53179006 0.26792589]\n",
            " [0.38225938 0.07172527 0.30005596 0.32844507]]\n"
          ],
          "name": "stdout"
        }
      ]
    },
    {
      "cell_type": "code",
      "metadata": {
        "colab": {
          "base_uri": "https://localhost:8080/"
        },
        "id": "CQnVXQmw6Vqn",
        "outputId": "09b35862-ee51-4e2e-cd20-a9d62100db50"
      },
      "source": [
        "print(R)"
      ],
      "execution_count": null,
      "outputs": [
        {
          "output_type": "stream",
          "text": [
            "[[ 0.69620064  0.10288754  0.48893753  0.19570101]\n",
            " [ 0.4774959  10.          0.17316504  0.49474334]\n",
            " [ 0.10297379  0.75366418  0.53179006  0.26792589]\n",
            " [ 0.38225938  0.07172527  0.30005596  0.32844507]]\n"
          ],
          "name": "stdout"
        }
      ]
    },
    {
      "cell_type": "markdown",
      "metadata": {
        "id": "wNWGmB5P5gPA"
      },
      "source": [
        "## Ejercicios de arreglos\n",
        "1. Genera los arreglos ```arreglo_pares``` y ```arreglo_impares``` convirtiendo las listas generadas en los ejercicios anteriores en arreglos.\n",
        "2. Suma, resta, multiplica y **divide** ambos arreglos.\n",
        "3. Contesta: ¿qué significado tiene la división de arreglos de numpy?"
      ]
    },
    {
      "cell_type": "code",
      "metadata": {
        "id": "tItUkOqq8ir2"
      },
      "source": [
        "# Ejercicio 1\n"
      ],
      "execution_count": null,
      "outputs": []
    },
    {
      "cell_type": "code",
      "metadata": {
        "id": "fHZjeQGf8kfR"
      },
      "source": [
        "# Ejercicio 2\n"
      ],
      "execution_count": null,
      "outputs": []
    },
    {
      "cell_type": "code",
      "metadata": {
        "id": "N2tg7eLW8loT"
      },
      "source": [
        "# Ejercicio 3\n"
      ],
      "execution_count": null,
      "outputs": []
    },
    {
      "cell_type": "markdown",
      "metadata": {
        "id": "cFse2sF78hEi"
      },
      "source": [
        "4. Genera un arreglo cuya entrada ```[i,j]``` sea la multiplicación de la entrada ```[i]``` del arreglo ```arreglo_pares``` y la entrada ```[j]``` del arreglo ```arreglo_impares```.\n",
        "Recomendación:\n",
        "  - Identifica la longitud de los arreglos y llámalo ```L```\n",
        "  - Genera un arreglo de puros ceros de dimensión $L \\times L$ y llámalo ```A```\n",
        "  - Mediante un for dentro de otro for, sustituye los elementos de ```A``` por los productos de las entradas de los arreglos (este último paso se pone a continuación, tú debes hacer los primeros dos pasos):"
      ]
    },
    {
      "cell_type": "code",
      "metadata": {
        "colab": {
          "base_uri": "https://localhost:8080/",
          "height": 248
        },
        "id": "wctMAUmx8Nko",
        "outputId": "7a93f69d-3b00-4551-877b-9a9992ba4672"
      },
      "source": [
        "## haz los primeros pasos\n",
        "\n",
        "\n",
        "## a continuacion se proporciona el tercer paso\n",
        "for i in range(L):\n",
        "  for j in range(L):\n",
        "    A[i,j] = arreglo_pares[i]*arreglo_pares[j]"
      ],
      "execution_count": null,
      "outputs": [
        {
          "output_type": "error",
          "ename": "NameError",
          "evalue": "ignored",
          "traceback": [
            "\u001b[0;31m---------------------------------------------------------------------------\u001b[0m",
            "\u001b[0;31mNameError\u001b[0m                                 Traceback (most recent call last)",
            "\u001b[0;32m<ipython-input-82-97b8841c1922>\u001b[0m in \u001b[0;36m<module>\u001b[0;34m()\u001b[0m\n\u001b[1;32m      3\u001b[0m \u001b[0;34m\u001b[0m\u001b[0m\n\u001b[1;32m      4\u001b[0m \u001b[0;31m## a continuacion se proporciona el tercer paso\u001b[0m\u001b[0;34m\u001b[0m\u001b[0;34m\u001b[0m\u001b[0;34m\u001b[0m\u001b[0m\n\u001b[0;32m----> 5\u001b[0;31m \u001b[0;32mfor\u001b[0m \u001b[0mi\u001b[0m \u001b[0;32min\u001b[0m \u001b[0mrange\u001b[0m\u001b[0;34m(\u001b[0m\u001b[0mL\u001b[0m\u001b[0;34m)\u001b[0m\u001b[0;34m:\u001b[0m\u001b[0;34m\u001b[0m\u001b[0;34m\u001b[0m\u001b[0m\n\u001b[0m\u001b[1;32m      6\u001b[0m   \u001b[0;32mfor\u001b[0m \u001b[0mj\u001b[0m \u001b[0;32min\u001b[0m \u001b[0mrange\u001b[0m\u001b[0;34m(\u001b[0m\u001b[0mL\u001b[0m\u001b[0;34m)\u001b[0m\u001b[0;34m:\u001b[0m\u001b[0;34m\u001b[0m\u001b[0;34m\u001b[0m\u001b[0m\n\u001b[1;32m      7\u001b[0m     \u001b[0mA\u001b[0m\u001b[0;34m[\u001b[0m\u001b[0mi\u001b[0m\u001b[0;34m,\u001b[0m\u001b[0mj\u001b[0m\u001b[0;34m]\u001b[0m \u001b[0;34m=\u001b[0m \u001b[0marreglo_pares\u001b[0m\u001b[0;34m[\u001b[0m\u001b[0mi\u001b[0m\u001b[0;34m]\u001b[0m\u001b[0;34m*\u001b[0m\u001b[0marreglo_pares\u001b[0m\u001b[0;34m[\u001b[0m\u001b[0mj\u001b[0m\u001b[0;34m]\u001b[0m\u001b[0;34m\u001b[0m\u001b[0;34m\u001b[0m\u001b[0m\n",
            "\u001b[0;31mNameError\u001b[0m: name 'L' is not defined"
          ]
        }
      ]
    },
    {
      "cell_type": "markdown",
      "metadata": {
        "id": "a0VK84_Y8s2n"
      },
      "source": [
        "# Importar NetworkX y Matplotlib"
      ]
    },
    {
      "cell_type": "markdown",
      "metadata": {
        "id": "iPSd_uirTRd6"
      },
      "source": [
        "En la primera parte de este curso, además de Numpy, serán fundamentales otras dos librerías que ya están integradas en anaconda: en NetworkX están definidos todos los objetos y funciones de redes que usaremos y en Pyplot hay muchas funciones para visualizar información. Pyplot está contenida en otra librería llamada Matplotlib.\n",
        "Más información en https://matplotlib.org/ y https://networkx.org/\n",
        "\n",
        "En la siguiente celda se importan ambas librerías con sus claves convencionales:"
      ]
    },
    {
      "cell_type": "code",
      "metadata": {
        "id": "5QIeG_E4RfUi"
      },
      "source": [
        "import networkx as nx\n",
        "import matplotlib.pyplot as plt"
      ],
      "execution_count": null,
      "outputs": []
    },
    {
      "cell_type": "markdown",
      "metadata": {
        "id": "HBLctkjDWziV"
      },
      "source": [
        "En los siguientes notebooks y videos se explican las funciones más importantes relacionadas con las redes que utilizaremos."
      ]
    }
  ]
}